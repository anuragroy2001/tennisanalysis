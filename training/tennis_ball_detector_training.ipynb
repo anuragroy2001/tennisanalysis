{
 "cells": [
  {
   "cell_type": "markdown",
   "metadata": {},
   "source": [
    "#GETDATASET"
   ]
  },
  {
   "cell_type": "code",
   "execution_count": 1,
   "metadata": {},
   "outputs": [
    {
     "name": "stdout",
     "output_type": "stream",
     "text": [
      "Collecting roboflow\n",
      "  Downloading roboflow-1.1.47-py3-none-any.whl.metadata (9.7 kB)\n",
      "Requirement already satisfied: certifi in /home/anurag/anaconda3/envs/updatedtorch/lib/python3.8/site-packages (from roboflow) (2024.8.30)\n",
      "Requirement already satisfied: idna==3.7 in /home/anurag/anaconda3/envs/updatedtorch/lib/python3.8/site-packages (from roboflow) (3.7)\n",
      "Requirement already satisfied: cycler in /home/anurag/anaconda3/envs/updatedtorch/lib/python3.8/site-packages (from roboflow) (0.12.1)\n",
      "Requirement already satisfied: kiwisolver>=1.3.1 in /home/anurag/anaconda3/envs/updatedtorch/lib/python3.8/site-packages (from roboflow) (1.4.7)\n",
      "Requirement already satisfied: matplotlib in /home/anurag/anaconda3/envs/updatedtorch/lib/python3.8/site-packages (from roboflow) (3.7.5)\n",
      "Requirement already satisfied: numpy>=1.18.5 in /home/anurag/anaconda3/envs/updatedtorch/lib/python3.8/site-packages (from roboflow) (1.24.3)\n",
      "Requirement already satisfied: opencv-python-headless==4.10.0.84 in /home/anurag/anaconda3/envs/updatedtorch/lib/python3.8/site-packages (from roboflow) (4.10.0.84)\n",
      "Requirement already satisfied: Pillow>=7.1.2 in /home/anurag/anaconda3/envs/updatedtorch/lib/python3.8/site-packages (from roboflow) (10.4.0)\n",
      "Requirement already satisfied: python-dateutil in /home/anurag/anaconda3/envs/updatedtorch/lib/python3.8/site-packages (from roboflow) (2.9.0.post0)\n",
      "Collecting python-dotenv (from roboflow)\n",
      "  Downloading python_dotenv-1.0.1-py3-none-any.whl.metadata (23 kB)\n",
      "Requirement already satisfied: requests in /home/anurag/anaconda3/envs/updatedtorch/lib/python3.8/site-packages (from roboflow) (2.32.3)\n",
      "Requirement already satisfied: six in /home/anurag/anaconda3/envs/updatedtorch/lib/python3.8/site-packages (from roboflow) (1.16.0)\n",
      "Requirement already satisfied: urllib3>=1.26.6 in /home/anurag/anaconda3/envs/updatedtorch/lib/python3.8/site-packages (from roboflow) (2.2.2)\n",
      "Requirement already satisfied: tqdm>=4.41.0 in /home/anurag/anaconda3/envs/updatedtorch/lib/python3.8/site-packages (from roboflow) (4.66.5)\n",
      "Requirement already satisfied: PyYAML>=5.3.1 in /home/anurag/anaconda3/envs/updatedtorch/lib/python3.8/site-packages (from roboflow) (6.0.1)\n",
      "Collecting requests-toolbelt (from roboflow)\n",
      "  Downloading requests_toolbelt-1.0.0-py2.py3-none-any.whl.metadata (14 kB)\n",
      "Collecting filetype (from roboflow)\n",
      "  Downloading filetype-1.2.0-py2.py3-none-any.whl.metadata (6.5 kB)\n",
      "Requirement already satisfied: contourpy>=1.0.1 in /home/anurag/anaconda3/envs/updatedtorch/lib/python3.8/site-packages (from matplotlib->roboflow) (1.1.1)\n",
      "Requirement already satisfied: fonttools>=4.22.0 in /home/anurag/anaconda3/envs/updatedtorch/lib/python3.8/site-packages (from matplotlib->roboflow) (4.53.1)\n",
      "Requirement already satisfied: packaging>=20.0 in /home/anurag/anaconda3/envs/updatedtorch/lib/python3.8/site-packages (from matplotlib->roboflow) (24.1)\n",
      "Requirement already satisfied: pyparsing>=2.3.1 in /home/anurag/anaconda3/envs/updatedtorch/lib/python3.8/site-packages (from matplotlib->roboflow) (3.1.4)\n",
      "Requirement already satisfied: importlib-resources>=3.2.0 in /home/anurag/anaconda3/envs/updatedtorch/lib/python3.8/site-packages (from matplotlib->roboflow) (6.4.0)\n",
      "Requirement already satisfied: charset-normalizer<4,>=2 in /home/anurag/anaconda3/envs/updatedtorch/lib/python3.8/site-packages (from requests->roboflow) (3.3.2)\n",
      "Requirement already satisfied: zipp>=3.1.0 in /home/anurag/anaconda3/envs/updatedtorch/lib/python3.8/site-packages (from importlib-resources>=3.2.0->matplotlib->roboflow) (3.17.0)\n",
      "Downloading roboflow-1.1.47-py3-none-any.whl (80 kB)\n",
      "Downloading filetype-1.2.0-py2.py3-none-any.whl (19 kB)\n",
      "Downloading python_dotenv-1.0.1-py3-none-any.whl (19 kB)\n",
      "Downloading requests_toolbelt-1.0.0-py2.py3-none-any.whl (54 kB)\n",
      "Installing collected packages: filetype, python-dotenv, requests-toolbelt, roboflow\n",
      "Successfully installed filetype-1.2.0 python-dotenv-1.0.1 requests-toolbelt-1.0.0 roboflow-1.1.47\n",
      "loading Roboflow workspace...\n",
      "loading Roboflow project...\n",
      "Dependency ultralytics==8.0.196 is required but found version=8.2.103, to fix: `pip install ultralytics==8.0.196`\n"
     ]
    },
    {
     "name": "stderr",
     "output_type": "stream",
     "text": [
      "Downloading Dataset Version Zip in tennis-ball-detection-6 to yolov8:: 100%|██████████████████████████████████████████████████████████████████████████████████████████████████████████████████████████████████| 52040/52040 [00:08<00:00, 6193.23it/s]"
     ]
    },
    {
     "name": "stdout",
     "output_type": "stream",
     "text": [
      "\n"
     ]
    },
    {
     "name": "stderr",
     "output_type": "stream",
     "text": [
      "\n",
      "Extracting Dataset Version Zip to tennis-ball-detection-6 in yolov8:: 100%|████████████████████████████████████████████████████████████████████████████████████████████████████████████████████████████████████| 1168/1168 [00:00<00:00, 14520.91it/s]\n"
     ]
    }
   ],
   "source": [
    "!pip install roboflow\n",
    "\n",
    "from roboflow import Roboflow\n",
    "rf = Roboflow(api_key=\"eT3hV7CejKbpJStYd6nM\")\n",
    "project = rf.workspace(\"viren-dhanwani\").project(\"tennis-ball-detection\")\n",
    "version = project.version(6)\n",
    "dataset = version.download(\"yolov8\")\n",
    "                "
   ]
  },
  {
   "cell_type": "code",
   "execution_count": 4,
   "metadata": {},
   "outputs": [],
   "source": [
    "#Move files\n",
    "import shutil"
   ]
  },
  {
   "cell_type": "code",
   "execution_count": 5,
   "metadata": {},
   "outputs": [
    {
     "data": {
      "text/plain": [
       "'tennis-ball-detection-6/tennis-ball-detection-6/valid'"
      ]
     },
     "execution_count": 5,
     "metadata": {},
     "output_type": "execute_result"
    }
   ],
   "source": [
    "shutil.move(\"tennis-ball-detection-6/train\",\"tennis-ball-detection-6/tennis-ball-detection-6/train\",)\n",
    "\n",
    "shutil.move(\"tennis-ball-detection-6/test\",\"tennis-ball-detection-6/tennis-ball-detection-6/test\",)\n",
    "\n",
    "shutil.move(\"tennis-ball-detection-6/valid\",\"tennis-ball-detection-6/tennis-ball-detection-6/valid\",)"
   ]
  },
  {
   "cell_type": "code",
   "execution_count": 2,
   "metadata": {},
   "outputs": [
    {
     "ename": "",
     "evalue": "",
     "output_type": "error",
     "traceback": [
      "\u001b[1;31mThe Kernel crashed while executing code in the current cell or a previous cell. \n",
      "\u001b[1;31mPlease review the code in the cell(s) to identify a possible cause of the failure. \n",
      "\u001b[1;31mClick <a href='https://aka.ms/vscodeJupyterKernelCrash'>here</a> for more info. \n",
      "\u001b[1;31mView Jupyter <a href='command:jupyter.viewOutput'>log</a> for further details."
     ]
    }
   ],
   "source": [
    "# from ultralytics import YOLO\n",
    "# # Load a YOLOv8 model pre-trained on COCO dataset\n",
    "# model = YOLO('/home/anurag/TennisAnalysisYOLO/yolov8x.pt')  # You can use a larger version like 'yolov8m.pt'\n",
    "\n",
    "# # Train the model\n",
    "# model.train(data='/home/anurag/TennisAnalysisYOLO/training/tennis-ball-detection-6/data.yaml', epochs=100, imgsz=640)"
   ]
  },
  {
   "cell_type": "code",
   "execution_count": null,
   "metadata": {},
   "outputs": [],
   "source": []
  }
 ],
 "metadata": {
  "kernelspec": {
   "display_name": "updatedtorch",
   "language": "python",
   "name": "python3"
  },
  "language_info": {
   "codemirror_mode": {
    "name": "ipython",
    "version": 3
   },
   "file_extension": ".py",
   "mimetype": "text/x-python",
   "name": "python",
   "nbconvert_exporter": "python",
   "pygments_lexer": "ipython3",
   "version": "3.8.19"
  }
 },
 "nbformat": 4,
 "nbformat_minor": 4
}
